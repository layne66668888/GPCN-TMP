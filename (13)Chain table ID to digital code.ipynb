{
 "cells": [
  {
   "cell_type": "code",
   "execution_count": null,
   "id": "f7c019ef",
   "metadata": {},
   "outputs": [],
   "source": [
    "import pandas as pd\n",
    "\n",
    "# === Set the file path ===\n",
    "input_file = r\"C:\\Users\\51195\\Desktop\\MRR.xlsx\"\n",
    "output_numbered_file = r\"C:\\Users\\51195\\Desktop\\MRR_链式表_编号后.xlsx\"\n",
    "output_mapping_file = r\"C:\\Users\\51195\\Desktop\\MRR元素编号对照表.xlsx\"\n",
    "\n",
    "# === Read Excel files (all contents are read as strings to avoid accidental deletion of 0, etc.)===\n",
    "df = pd.read_excel(input_file, header=None, dtype=str)\n",
    "\n",
    "# === Extract all unique non-null elements ===\n",
    "unique_values = pd.unique(df.values.ravel())\n",
    "unique_values = [v for v in unique_values if pd.notna(v) and v != \"\"]\n",
    "\n",
    "# === Create a number mapping dictionary ===\n",
    "numbering = {val: idx + 1 for idx, val in enumerate(unique_values)}\n",
    "\n",
    "# === Replace the contents in the table with numbers ===\n",
    "df_numbered = df.replace(numbering)\n",
    "\n",
    "# === Create a number comparison table ===\n",
    "numbering_df = pd.DataFrame(list(numbering.items()), columns=[\"原始内容\", \"编号\"])\n",
    "\n",
    "# === Export numbered tables and comparison tables ===\n",
    "df_numbered.to_excel(output_numbered_file, index=False, header=False)\n",
    "numbering_df.to_excel(output_mapping_file, index=False)\n",
    "\n",
    "print(\"完成！已生成编号后的表格和元素对照表。\")\n"
   ]
  }
 ],
 "metadata": {
  "kernelspec": {
   "display_name": "Python 3 (ipykernel)",
   "language": "python",
   "name": "python3"
  },
  "language_info": {
   "codemirror_mode": {
    "name": "ipython",
    "version": 3
   },
   "file_extension": ".py",
   "mimetype": "text/x-python",
   "name": "python",
   "nbconvert_exporter": "python",
   "pygments_lexer": "ipython3",
   "version": "3.11.5"
  }
 },
 "nbformat": 4,
 "nbformat_minor": 5
}
